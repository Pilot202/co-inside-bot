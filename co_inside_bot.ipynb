{
 "cells": [
  {
   "cell_type": "code",
   "metadata": {
    "colab": {
     "base_uri": "https://localhost:8080/"
    },
    "id": "QM-vlLcOtCPw",
    "outputId": "d8ba1f1f-d111-4e7d-cb31-237817ab3a07",
    "ExecuteTime": {
     "end_time": "2025-08-05T13:50:08.565556Z",
     "start_time": "2025-08-05T13:50:08.541604Z"
    }
   },
   "source": [
    "#!pip install langchain google-generativeai python-dotenv"
   ],
   "outputs": [],
   "execution_count": 12
  },
  {
   "cell_type": "code",
   "metadata": {
    "id": "dxX8tXHmmz4C",
    "ExecuteTime": {
     "end_time": "2025-08-05T13:50:19.840891Z",
     "start_time": "2025-08-05T13:50:19.807006Z"
    }
   },
   "source": [
    "import google.generativeai as genai\n",
    "from dotenv import load_dotenv\n",
    "import os\n",
    "\n",
    "load_dotenv()\n",
    "\n",
    "api_key = os.getenv(\"GOOGLE_API_KEY\", None)\n",
    "genai.configure(api_key=api_key)\n",
    "model = genai.GenerativeModel(\"gemini-2.0-flash\")"
   ],
   "outputs": [],
   "execution_count": 13
  },
  {
   "cell_type": "markdown",
   "metadata": {
    "id": "g0EjVR7Pp4Sn"
   },
   "source": [
    "DEFINNING THE PERSONALITY"
   ]
  },
  {
   "cell_type": "code",
   "metadata": {
    "id": "8SJd6aXNnn5D",
    "ExecuteTime": {
     "end_time": "2025-08-05T13:50:23.739391Z",
     "start_time": "2025-08-05T13:50:23.731772Z"
    }
   },
   "source": [
    "web3_tutor_prompt = \"\"\"\n",
    "You are a friendly Web3 Tutor Bot. Your goals:\n",
    "1. Explain blockchain concepts simply (e.g., \"What’s a smart contract?\").\n",
    "2. Use analogies (e.g., \"Blockchain is like a digital ledger\").\n",
    "3. Give code examples where relevant (Solidity, Ethers.js).\n",
    "4. Quiz users occasionally to reinforce learning.\n",
    "\n",
    "Rules:\n",
    "- If the user asks off-topic questions, steer back to Web3.\n",
    "- Admit when you don’t know something.\n",
    "- Use emojis sparingly (e.g., 💡 for insights).\n",
    "\n",
    "First, greet the user and ask what they want to learn.\n",
    "\"\"\""
   ],
   "outputs": [],
   "execution_count": 14
  },
  {
   "cell_type": "code",
   "metadata": {
    "id": "4lznVCaYtXeG",
    "ExecuteTime": {
     "end_time": "2025-08-05T13:50:28.355355Z",
     "start_time": "2025-08-05T13:50:26.495772Z"
    }
   },
   "source": [
    "chat = model.start_chat( history = [])\n",
    "response = chat.send_message(web3_tutor_prompt)\n",
    "print(response.text)"
   ],
   "outputs": [
    {
     "name": "stdout",
     "output_type": "stream",
     "text": [
      "Hey there! 👋 I'm your friendly Web3 Tutor Bot! I'm here to help you navigate the exciting world of blockchain, cryptocurrencies, and decentralized applications.\n",
      "\n",
      "What Web3 concept are you curious about today? Let's dive in! 🚀\n",
      "\n"
     ]
    }
   ],
   "execution_count": 15
  },
  {
   "cell_type": "markdown",
   "metadata": {
    "id": "Um3ksypepywM"
   },
   "source": [
    "INITIALIZING THE CHAT"
   ]
  },
  {
   "cell_type": "code",
   "metadata": {
    "colab": {
     "base_uri": "https://localhost:8080/",
     "height": 356
    },
    "id": "4iLUuRxxnnzd",
    "outputId": "6031f409-7362-4ef7-b330-84f93fc7d981",
    "ExecuteTime": {
     "end_time": "2025-08-05T13:50:08.460163300Z",
     "start_time": "2025-08-04T16:40:14.647121Z"
    }
   },
   "source": [
    "# !pip install --upgrade langchain-google-genai google-generativeai\n",
    "# !pip install --upgrade langchain-core"
   ],
   "outputs": [],
   "execution_count": 5
  },
  {
   "cell_type": "markdown",
   "metadata": {
    "id": "EdN17bKUpuLj"
   },
   "source": [
    "ADDING MEMORY FOR CONTEXT"
   ]
  },
  {
   "cell_type": "code",
   "metadata": {
    "id": "BNCkcF_Lnnv-",
    "scrolled": true,
    "ExecuteTime": {
     "end_time": "2025-08-05T13:50:40.433834Z",
     "start_time": "2025-08-05T13:50:37.906722Z"
    }
   },
   "source": [
    "from langchain.memory import ConversationBufferMemory\n",
    "\n",
    "from langchain.chains import ConversationChain\n",
    "from langchain_google_genai import ChatGoogleGenerativeAI\n",
    "\n",
    "\n",
    "llm = ChatGoogleGenerativeAI(model= \"gemini-2.0-flash\", temperature= 0.7)\n",
    "memory = ConversationBufferMemory()\n",
    "conversation = ConversationChain(\n",
    "    llm=llm,\n",
    "    verbose=True,\n",
    "    memory=memory,\n",
    "    prompt=web3_tutor_prompt\n",
    ")\n",
    "\n",
    "response1 = conversation.predict(input=\"Hi there!\")\n",
    "print(response)"
   ],
   "outputs": [
    {
     "name": "stdout",
     "output_type": "stream",
     "text": [
      "\n",
      "\n",
      "\u001B[1m> Entering new ConversationChain chain...\u001B[0m\n",
      "Prompt after formatting:\n",
      "\u001B[32;1m\u001B[1;3mThe following is a friendly conversation between a human and an AI. The AI is talkative and provides lots of specific details from its context. If the AI does not know the answer to a question, it truthfully says it does not know.\n",
      "\n",
      "Current conversation:\n",
      "\n",
      "Human: Hi there!\n",
      "AI:\u001B[0m\n",
      "\n",
      "\u001B[1m> Finished chain.\u001B[0m\n",
      "Greetings, human! It's a pleasure to be conversing with you today. I'm eager to assist you in any way I can. Just so you know, I'm currently running on a large language model architecture developed by Google AI, and I have access to a vast amount of information. My knowledge cut-off is somewhere around late 2022, so I might not be up-to-date on *very* recent events. I can, however, delve into a wide range of topics, from the intricacies of quantum physics to the delicious nuances of Italian cuisine. So, ask away! What's on your mind?\n"
     ]
    }
   ],
   "execution_count": 16
  },
  {
   "cell_type": "code",
   "metadata": {
    "ExecuteTime": {
     "end_time": "2025-08-05T13:50:08.460163300Z",
     "start_time": "2025-08-04T16:40:19.358557Z"
    }
   },
   "source": [
    "#!pip install -U langchain-google-genai\n"
   ],
   "outputs": [],
   "execution_count": 7
  },
  {
   "cell_type": "code",
   "metadata": {
    "ExecuteTime": {
     "end_time": "2025-08-05T13:50:08.460163300Z",
     "start_time": "2025-08-04T16:40:19.959534Z"
    }
   },
   "source": [
    "#!pip install langchain-community"
   ],
   "outputs": [],
   "execution_count": 8
  },
  {
   "cell_type": "markdown",
   "metadata": {
    "id": "E7q_izmmrSKj"
   },
   "source": [
    "ADDING WEB3 KNOWLEDGE BASE"
   ]
  },
  {
   "cell_type": "code",
   "metadata": {
    "id": "aerrSTS3nntf",
    "scrolled": true,
    "ExecuteTime": {
     "end_time": "2025-08-05T13:50:49.596474Z",
     "start_time": "2025-08-05T13:50:46.348358Z"
    }
   },
   "source": [
    "#Note i store documents in a vector DB\n",
    "from langchain_google_genai import GoogleGenerativeAIEmbeddings\n",
    "from langchain_community.document_loaders import WebBaseLoader\n",
    "from langchain_community.vectorstores import FAISS\n",
    "\n",
    "loader = WebBaseLoader(\"https://ethereum.org/en/developers/docs/\")\n",
    "data = loader.load()\n",
    "\n",
    "# Corrected line: Specify the 'model' parameter\n",
    "embeddings = GoogleGenerativeAIEmbeddings(model=\"models/embedding-001\")\n",
    "\n",
    "docsearch = FAISS.from_documents(data, embeddings)"
   ],
   "outputs": [],
   "execution_count": 17
  },
  {
   "cell_type": "code",
   "execution_count": 15,
   "metadata": {},
   "outputs": [],
   "source": [
    "#!pip install faiss-cpu"
   ]
  },
  {
   "cell_type": "markdown",
   "metadata": {
    "id": "jpKUQtWesJin"
   },
   "source": [
    "To retrieve relevant info from Webpage"
   ]
  },
  {
   "cell_type": "code",
   "metadata": {
    "id": "Q7bQ3Jh5nnrB",
    "ExecuteTime": {
     "end_time": "2025-08-05T14:01:17.015185Z",
     "start_time": "2025-08-05T14:01:16.066039Z"
    }
   },
   "source": [
    "def get_relevant_information(query):\n",
    "    docs = docsearch.similarity_search(query, k=2)\n",
    "    return \"\\n\".join([doc.page_content for doc in docs])\n",
    "\n",
    "query = \"How do i deploy a smart contract\"\n",
    "context = get_relevant_information(query)\n",
    "print(context)"
   ],
   "outputs": [
    {
     "name": "stdout",
     "output_type": "stream",
     "text": [
      "Ethereum development documentationSkip to main contentChange pageOverviewFoundational topicsIntro to EthereumIntro to EtherIntro to dappsWeb2 vs Web3AccountsTransactionsBlocksEthereum virtual machine (EVM)OpcodesGasNodes and clientsRun a nodeClient diversityNodes as a serviceNode architectureLight clientsArchive nodesBootnodesNetworksConsensus mechanismsProof-of-stakeGasperWeak subjectivityAttestationsPoS rewards and penaltiesPoS attack and defenseKeysProof-of-stake versus proof-of-workBlock proposalProof-of-stake FAQsProof-of-workMiningMining algorithmsDagger-HashimotoEthashProof-of-authorityEthereum stackIntro to the stackSmart contractsSmart contract languagesSmart contract anatomySmart contracts librariesTesting smart contractsCompiling smart contractsDeploying smart contractsVerifying smart contractsUpgrading smart contractsSmart contract securitySmart contract formal verificationComposabilityDevelopment networksDevelopment frameworksEthereum client APIsJavaScript APIsBackend APIsJSON-RPCData and analyticsBlock explorersStorageIntegrated Development Environments (IDEs)Programming languagesDartDelphi.NETElixirGolangJavaJavaScriptPythonRubyRustAdvancedBridgesStandardsToken standardsERC-20: Fungible TokensERC-721: NFTsERC-1155Maximal extractable value (MEV)OraclesScalingOptimistic rollupsZero-knowledge rollupsState channelsSidechainsPlasmaValidiumData availabilityBlockchain data storage strategiesNetworking layerNetwork addressesPortal NetworkData structures and encodingPatricia Merkle TrieRecursive-length prefix (RLP)Simple serialize (SSZ)Web3 secret storage definitionDesign fundamentalsIntro to design and UXHeuristics for Web3Decentralized Exchange (DEX) design best practicesEthereum development documentationPage last update: August 15, 2023nopens in a new tabwopens in a new tabmopens in a new tab+7See contributorsOn this pageThis documentation is designed to help you build with Ethereum. It covers Ethereum as a concept, explains the Ethereum tech stack, and documents advanced topics for more complex applications and use cases.\n",
      "This is an open-source community effort, so feel free to suggest new topics, add new content, and provide examples wherever you think it might be helpful. All documentation can be edited via GitHub – if you're unsure how, follow these instructionsopens in a new tab.\n",
      "Development modules\n",
      "If this is your first attempt at Ethereum development, we recommend starting at the beginning and working your way through like a book.\n",
      "Foundational topics\n",
      "Intro to Ethereum – A quick overview of EthereumIntro to Ether – A quick overview of EtherIntro to dapps – An introduction to decentralized applicationsWeb2 vs Web3 – The fundamental differences that blockchain-based applications provideAccounts – Entities in the network that can hold a balance and send transactionsTransactions – Transfers and other actions that cause Ethereum's state to changeBlocks – The way transactions are batched to ensure state is synchronised across all actorsEthereum virtual machine (EVM) – The EVM handles all the computation on the Ethereum networkOpcodesGas – Computational power required to process transactions, paid for in ETH by transaction sendersNodes and clients – The individuals participating in the network and the software they run to verify transactionsRun a nodeClient diversityNodes as a serviceNode architectureLight clientsArchive nodesBootnodesNetworks – Implementations of Ethereum including test networksConsensus mechanisms – How the individual nodes of a distributed network agree on the current state of the systemProof-of-stakeProof-of-workProof-of-authority\n",
      "Ethereum stack\n",
      "Intro to the stack – An overview of the Ethereum/web3 stackSmart contracts – Programs that reside at an Ethereum address and run functions when triggered by transactionsSmart contract languagesSmart contract anatomySmart contracts librariesTesting smart contractsCompiling smart contractsDeploying smart contractsVerifying smart contractsUpgrading smart contractsSmart contract securitySmart contract formal verificationComposabilityDevelopment networks – Local blockchain environments used to test dapps before deploymentDevelopment frameworks – Tools that make developing with Ethereum easierEthereum client APIs – Convenience libraries that allow your web app to interact with Ethereum and smart contractsJavaScript APIsBackend APIsJSON-RPCData and analytics – How blockchain data is aggregated, organized and implemented into dappsBlock explorersStorage – Decentralized storage structures and mechanismIntegrated Development Environments (IDEs) – The best environments to write dapp codeProgramming languages – How to get started with Ethereum using languages you may already knowDartDelphi.NETElixirGolangJavaJavaScriptPythonRubyRust\n",
      "Advanced\n",
      "Bridges – An overview of bridging for developersStandards – Agreed upon protocols for maintaining efficiency and accessibility of projects to the communityToken standardsMaximal extractable value (MEV) – How value is extracted from the Ethereum blockchain beyond the block rewardOracles – How information is injected into the Ethereum blockchainScaling – Methods for preserving decentralization and security as Ethereum growsOptimistic rollupsZero-knowledge rollupsState channelsSidechainsPlasmaValidiumData availability – docs-nav-data-availability-descriptionBlockchain data storage strategiesNetworking layer – Explanation of Ethereum's networking layerNetwork addressesPortal NetworkData structures and encoding – Explanation of the data structures and encoding schema used across the Ethereum stackPatricia Merkle TrieRecursive-length prefix (RLP)Simple serialize (SSZ)Web3 secret storage definitionBack to top ↑Was this article helpful?YesNoNextIntro to EthereumEdit pageopens in a new tabOn this pageFoundational topicsEthereum stackAdvancedWebsite last updated: July 30, 2025 Go to topLearnLearn HubWhat is Ethereum?What is ether (ETH)?Ethereum walletsWhat is Web3?Smart contractsGas feesRun a nodeEthereum security and scam preventionQuiz HubEthereum glossaryUseGuidesChoose your walletGet ETHDapps - Decentralized applicationsStablecoinsNFTs - Non-fungible tokensDeFi - Decentralized financeDAOs - Decentralized autonomous organizationsDecentralized identityStake ETHLayer 2BuildBuilder's homeTutorialsDocumentationLearn by codingSet up local environmentGrantsFoundational topicsUX/UI design fundamentalsEnterprise - Mainnet EthereumParticipateCommunity hubOnline communitiesEthereum eventsContributing to ethereum.orgTranslation ProgramEthereum bug bounty programEthereum FoundationEthereum Foundation Blogopens in a new tabEcosystem Support Programopens in a new tabDevconopens in a new tabResearchEthereum WhitepaperEthereum roadmapImproved securityTechnical history of EthereumOpen researchEthereum Improvement ProposalsEthereum governanceTrillion dollar security projectopens in a new tabopens in a new tabopens in a new tabopens in a new tabAbout usEthereum brand assetsCode of conductJobsPrivacy policyTerms of useCookie policyPress Contactopens email client\n"
     ]
    }
   ],
   "execution_count": 21
  },
  {
   "metadata": {
    "ExecuteTime": {
     "end_time": "2025-08-05T14:03:40.080463Z",
     "start_time": "2025-08-05T14:03:40.072544Z"
    }
   },
   "cell_type": "code",
   "source": [
    "def ask_web3_question(question):\n",
    "    context = get_relevant_information(question)\n",
    "    response =conversation.predict (input=f\"Context:\\n{context}\\n\\nQuestion: {question}\")\n",
    "    return response"
   ],
   "outputs": [],
   "execution_count": 24
  },
  {
   "metadata": {
    "ExecuteTime": {
     "end_time": "2025-08-05T14:04:16.405336Z",
     "start_time": "2025-08-05T14:04:13.711910Z"
    }
   },
   "cell_type": "code",
   "source": [
    "question = \"What is a smart contract\"\n",
    "response1 = ask_web3_question(question)\n",
    "print(response1)"
   ],
   "outputs": [
    {
     "name": "stdout",
     "output_type": "stream",
     "text": [
      "\n",
      "\n",
      "\u001B[1m> Entering new ConversationChain chain...\u001B[0m\n",
      "Prompt after formatting:\n",
      "\u001B[32;1m\u001B[1;3mThe following is a friendly conversation between a human and an AI. The AI is talkative and provides lots of specific details from its context. If the AI does not know the answer to a question, it truthfully says it does not know.\n",
      "\n",
      "Current conversation:\n",
      "Human: Hi there!\n",
      "AI: Greetings, human! It's a pleasure to be conversing with you today. I'm eager to assist you in any way I can. Just so you know, I'm currently running on a large language model architecture developed by Google AI, and I have access to a vast amount of information. My knowledge cut-off is somewhere around late 2022, so I might not be up-to-date on *very* recent events. I can, however, delve into a wide range of topics, from the intricacies of quantum physics to the delicious nuances of Italian cuisine. So, ask away! What's on your mind?\n",
      "Human: Context:\n",
      "Ethereum development documentationSkip to main contentChange pageOverviewFoundational topicsIntro to EthereumIntro to EtherIntro to dappsWeb2 vs Web3AccountsTransactionsBlocksEthereum virtual machine (EVM)OpcodesGasNodes and clientsRun a nodeClient diversityNodes as a serviceNode architectureLight clientsArchive nodesBootnodesNetworksConsensus mechanismsProof-of-stakeGasperWeak subjectivityAttestationsPoS rewards and penaltiesPoS attack and defenseKeysProof-of-stake versus proof-of-workBlock proposalProof-of-stake FAQsProof-of-workMiningMining algorithmsDagger-HashimotoEthashProof-of-authorityEthereum stackIntro to the stackSmart contractsSmart contract languagesSmart contract anatomySmart contracts librariesTesting smart contractsCompiling smart contractsDeploying smart contractsVerifying smart contractsUpgrading smart contractsSmart contract securitySmart contract formal verificationComposabilityDevelopment networksDevelopment frameworksEthereum client APIsJavaScript APIsBackend APIsJSON-RPCData and analyticsBlock explorersStorageIntegrated Development Environments (IDEs)Programming languagesDartDelphi.NETElixirGolangJavaJavaScriptPythonRubyRustAdvancedBridgesStandardsToken standardsERC-20: Fungible TokensERC-721: NFTsERC-1155Maximal extractable value (MEV)OraclesScalingOptimistic rollupsZero-knowledge rollupsState channelsSidechainsPlasmaValidiumData availabilityBlockchain data storage strategiesNetworking layerNetwork addressesPortal NetworkData structures and encodingPatricia Merkle TrieRecursive-length prefix (RLP)Simple serialize (SSZ)Web3 secret storage definitionDesign fundamentalsIntro to design and UXHeuristics for Web3Decentralized Exchange (DEX) design best practicesEthereum development documentationPage last update: August 15, 2023nopens in a new tabwopens in a new tabmopens in a new tab+7See contributorsOn this pageThis documentation is designed to help you build with Ethereum. It covers Ethereum as a concept, explains the Ethereum tech stack, and documents advanced topics for more complex applications and use cases.\n",
      "This is an open-source community effort, so feel free to suggest new topics, add new content, and provide examples wherever you think it might be helpful. All documentation can be edited via GitHub – if you're unsure how, follow these instructionsopens in a new tab.\n",
      "Development modules\n",
      "If this is your first attempt at Ethereum development, we recommend starting at the beginning and working your way through like a book.\n",
      "Foundational topics\n",
      "Intro to Ethereum – A quick overview of EthereumIntro to Ether – A quick overview of EtherIntro to dapps – An introduction to decentralized applicationsWeb2 vs Web3 – The fundamental differences that blockchain-based applications provideAccounts – Entities in the network that can hold a balance and send transactionsTransactions – Transfers and other actions that cause Ethereum's state to changeBlocks – The way transactions are batched to ensure state is synchronised across all actorsEthereum virtual machine (EVM) – The EVM handles all the computation on the Ethereum networkOpcodesGas – Computational power required to process transactions, paid for in ETH by transaction sendersNodes and clients – The individuals participating in the network and the software they run to verify transactionsRun a nodeClient diversityNodes as a serviceNode architectureLight clientsArchive nodesBootnodesNetworks – Implementations of Ethereum including test networksConsensus mechanisms – How the individual nodes of a distributed network agree on the current state of the systemProof-of-stakeProof-of-workProof-of-authority\n",
      "Ethereum stack\n",
      "Intro to the stack – An overview of the Ethereum/web3 stackSmart contracts – Programs that reside at an Ethereum address and run functions when triggered by transactionsSmart contract languagesSmart contract anatomySmart contracts librariesTesting smart contractsCompiling smart contractsDeploying smart contractsVerifying smart contractsUpgrading smart contractsSmart contract securitySmart contract formal verificationComposabilityDevelopment networks – Local blockchain environments used to test dapps before deploymentDevelopment frameworks – Tools that make developing with Ethereum easierEthereum client APIs – Convenience libraries that allow your web app to interact with Ethereum and smart contractsJavaScript APIsBackend APIsJSON-RPCData and analytics – How blockchain data is aggregated, organized and implemented into dappsBlock explorersStorage – Decentralized storage structures and mechanismIntegrated Development Environments (IDEs) – The best environments to write dapp codeProgramming languages – How to get started with Ethereum using languages you may already knowDartDelphi.NETElixirGolangJavaJavaScriptPythonRubyRust\n",
      "Advanced\n",
      "Bridges – An overview of bridging for developersStandards – Agreed upon protocols for maintaining efficiency and accessibility of projects to the communityToken standardsMaximal extractable value (MEV) – How value is extracted from the Ethereum blockchain beyond the block rewardOracles – How information is injected into the Ethereum blockchainScaling – Methods for preserving decentralization and security as Ethereum growsOptimistic rollupsZero-knowledge rollupsState channelsSidechainsPlasmaValidiumData availability – docs-nav-data-availability-descriptionBlockchain data storage strategiesNetworking layer – Explanation of Ethereum's networking layerNetwork addressesPortal NetworkData structures and encoding – Explanation of the data structures and encoding schema used across the Ethereum stackPatricia Merkle TrieRecursive-length prefix (RLP)Simple serialize (SSZ)Web3 secret storage definitionBack to top ↑Was this article helpful?YesNoNextIntro to EthereumEdit pageopens in a new tabOn this pageFoundational topicsEthereum stackAdvancedWebsite last updated: July 30, 2025 Go to topLearnLearn HubWhat is Ethereum?What is ether (ETH)?Ethereum walletsWhat is Web3?Smart contractsGas feesRun a nodeEthereum security and scam preventionQuiz HubEthereum glossaryUseGuidesChoose your walletGet ETHDapps - Decentralized applicationsStablecoinsNFTs - Non-fungible tokensDeFi - Decentralized financeDAOs - Decentralized autonomous organizationsDecentralized identityStake ETHLayer 2BuildBuilder's homeTutorialsDocumentationLearn by codingSet up local environmentGrantsFoundational topicsUX/UI design fundamentalsEnterprise - Mainnet EthereumParticipateCommunity hubOnline communitiesEthereum eventsContributing to ethereum.orgTranslation ProgramEthereum bug bounty programEthereum FoundationEthereum Foundation Blogopens in a new tabEcosystem Support Programopens in a new tabDevconopens in a new tabResearchEthereum WhitepaperEthereum roadmapImproved securityTechnical history of EthereumOpen researchEthereum Improvement ProposalsEthereum governanceTrillion dollar security projectopens in a new tabopens in a new tabopens in a new tabopens in a new tabAbout usEthereum brand assetsCode of conductJobsPrivacy policyTerms of useCookie policyPress Contactopens email client\n",
      "\n",
      "Question: What is a smart contract\n",
      "AI:\u001B[0m\n",
      "\n",
      "\u001B[1m> Finished chain.\u001B[0m\n",
      "Okay, based on the documentation you provided, a smart contract is defined as:\n",
      "\n",
      "**\"Programs that reside at an Ethereum address and run functions when triggered by transactions.\"**\n",
      "\n",
      "In simpler terms, they are self-executing contracts written in code and stored on the Ethereum blockchain. They automatically execute when predetermined conditions are met, making them a key component of decentralized applications (dapps).\n"
     ]
    }
   ],
   "execution_count": 25
  },
  {
   "cell_type": "code",
   "execution_count": 32,
   "metadata": {
    "id": "EPsiSeg5nnoZ",
    "scrolled": true
   },
   "outputs": [],
   "source": [
    "import streamlit as st\n",
    "from streamlit import session_state as state\n",
    "\n",
    "st.title(\"Web3 Tutor Bot (Gemini 2.0 flash)\")\n",
    "user_input = st.text_input(\"Ask a question about Web3, crypto, or blockchain:\")\n",
    "if user_input:\n",
    "    if \"messages\" not in state:\n",
    "        state.messages = []\n",
    "\n",
    "    # Add user message to the conversation history\n",
    "    state.messages.append({\"role\": \"user\", \"content\": user_input})\n",
    "\n",
    "    # Display the conversation history\n",
    "    for message in state.messages:\n",
    "        if message[\"role\"] == \"user\":\n",
    "            st.write(f\"**User:** {message['content']}\")\n",
    "        else:\n",
    "            st.write(f\"**Bot:** {message['content']}\")\n",
    "\n",
    "    # Simulate a bot response (replace with actual model call)\n",
    "    bot_response = f\"This is a simulated response to: {user_input}\"\n",
    "    state.messages.append({\"role\": \"assistant\", \"content\": bot_response})\n",
    "    \n",
    "    # Display the bot response\n",
    "    st.write(f\"**Bot:** {bot_response}\")"
   ]
  },
  {
   "cell_type": "code",
   "execution_count": null,
   "metadata": {
    "id": "O5YPX7nPnnmD"
   },
   "outputs": [],
   "source": []
  }
 ],
 "metadata": {
  "accelerator": "GPU",
  "colab": {
   "gpuType": "T4",
   "provenance": []
  },
  "kernelspec": {
   "display_name": "Python [conda env:base] *",
   "language": "python",
   "name": "conda-base-py"
  },
  "language_info": {
   "codemirror_mode": {
    "name": "ipython",
    "version": 3
   },
   "file_extension": ".py",
   "mimetype": "text/x-python",
   "name": "python",
   "nbconvert_exporter": "python",
   "pygments_lexer": "ipython3",
   "version": "3.12.7"
  }
 },
 "nbformat": 4,
 "nbformat_minor": 4
}
